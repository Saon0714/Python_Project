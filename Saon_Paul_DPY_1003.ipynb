{
  "nbformat": 4,
  "nbformat_minor": 0,
  "metadata": {
    "colab": {
      "provenance": []
    },
    "kernelspec": {
      "name": "python3",
      "display_name": "Python 3"
    },
    "language_info": {
      "name": "python"
    }
  },
  "cells": [
    {
      "cell_type": "code",
      "execution_count": null,
      "metadata": {
        "colab": {
          "base_uri": "https://localhost:8080/"
        },
        "id": "ZpbnP71QCT60",
        "outputId": "92c25e8e-e29b-4181-8d25-8159f7450da8"
      },
      "outputs": [
        {
          "output_type": "stream",
          "name": "stdout",
          "text": [
            "['Mahesh', 'Ali', 'Jacob']\n"
          ]
        }
      ],
      "source": [
        "# Q1: You are working in a bank and you have been given two lists of the employees who worked in 2021. \n",
        "# Employee’s name in list 1 are Ramesh, Suresh, Mahesh, Ali, Jacob and Saritha. \n",
        "# List 2 contains the names of Ali, Mukesh, Mahesh, Jacob, Sai, Sarita. \n",
        "# Please write a program which helps to identify people who are common in both lists. Please do not use any in-built function.\n",
        "\n",
        "l1=[\"Ramesh\",\"Suresh\",\"Mahesh\",\"Ali\",\"Jacob\",\"Saritha\"]\n",
        "l2=[\"Ali\",\"Mukesh\",\"Mahesh\",\"Jacob\",\"Sai\",\"Sarita\"]\n",
        "def common_employee(l1,l2):\n",
        "  '''\n",
        "  we need to give two lists as parameter and the function will return the common elements of both the lists\n",
        "  '''\n",
        "  l_common=[]\n",
        "  for i in l1:\n",
        "    for j in l2:\n",
        "      if i==j:\n",
        "        l_common.append(i)\n",
        "  print(l_common)\n",
        "common_employee(l1,l2)"
      ]
    },
    {
      "cell_type": "code",
      "source": [
        "# Q2: While entering data, someone entered a few names as a common string “Ramesh Suresh Mohit”.\n",
        "# Please write a program which separates all the names and convert them into a list. Once converted in a list,\n",
        "# please write a program which adds their age.\n",
        "# Ramesh :  25\n",
        "# Suresh : 22\n",
        "# Mohit : 26\n",
        "\n",
        "# using split() function \n",
        "# s=\"Ramesh Suresh Mohit\"\n",
        "# name=s.split()\n",
        "\n",
        "# without using split() function\n",
        "s=\"Ramesh Suresh Mohit\"\n",
        "age=[25,22,26]\n",
        "def spl(s):\n",
        "  name=[]\n",
        "  st=\"\"\n",
        "  for i in s:\n",
        "    if i!=\" \":\n",
        "      st+=i\n",
        "    else:\n",
        "      name=name+[st]\n",
        "      st=\"\"\n",
        "  if st!=\"\":\n",
        "    name=name+[st]\n",
        "  return name\n",
        "\n",
        "\n",
        "def name_age(age):\n",
        "  d=dict()\n",
        "  s=\"Ramesh Suresh Mohit\"\n",
        "  for i in spl(s):\n",
        "        d[i]=age[spl(s).index(i)]\n",
        "  return d\n",
        "\n",
        "print(spl(s))\n",
        "print(name_age(age))\n",
        "\n",
        "\n"
      ],
      "metadata": {
        "colab": {
          "base_uri": "https://localhost:8080/"
        },
        "id": "0w0YqWlY1q5S",
        "outputId": "cae1b82b-1d7a-4c29-eeba-e37613730dcc"
      },
      "execution_count": null,
      "outputs": [
        {
          "output_type": "stream",
          "name": "stdout",
          "text": [
            "['Ramesh', 'Suresh', 'Mohit']\n",
            "{'Ramesh': 25, 'Suresh': 22, 'Mohit': 26}\n"
          ]
        }
      ]
    },
    {
      "cell_type": "code",
      "source": [
        "# Q3: A few students from a university have taken three exams\n",
        "\n",
        "# Name = Sam, Jacy, Tom, Steve\n",
        "# Python = 25, 26, 29, 28\n",
        "# Statistics = 23, 21, 19, 25\n",
        "# SQL = 29, 27, 28, 25\n",
        "\n",
        "# please write a program which calculates mean values (no in-built function for mean) of all three tests\n",
        "# and print the highest mean value. Addition and other functions are allowed. \n",
        "# Please also report who scored the highest mark in python using programming construct. \n",
        "\n",
        "Name=[\"Sam\", \"Jacy\", \"Tom\", \"Steve\"]\n",
        "Python=[25, 26, 29, 28]\n",
        "Statistics=[23, 21, 19, 25]\n",
        "SQL=[29, 27, 28, 25]\n",
        "mean=[]\n",
        "\n",
        "# calculating the mean values of all three exams and store it in a list\n",
        "for i in Python:\n",
        "  for j in Statistics:\n",
        "    for k in SQL:\n",
        "      if Python.index(i)==Statistics.index(j)==SQL.index(k):\n",
        "        mean.append((i+j+k)/3)\n",
        "print(mean)\n",
        "\n",
        "# finding the maximum value of the list        \n",
        "max=mean[0]\n",
        "for i in mean:\n",
        "  if max<i:\n",
        "    max=i       \n",
        "print(\"{}({}) is the highest mean value\".format(int(max),Name[mean.index(max)])) \n",
        "\n",
        "# finding the highest mark in Python\n",
        "max_python=0\n",
        "for i in Python:\n",
        "  if max_python<i:\n",
        "    max_python=i\n",
        "\n",
        "print(\"{} got highest mark in Python\".format(Name[Python.index(max_python)]))\n",
        "\n",
        "\n",
        "\n",
        "\n"
      ],
      "metadata": {
        "colab": {
          "base_uri": "https://localhost:8080/"
        },
        "id": "jwwvmA2RBFkb",
        "outputId": "1c9b716f-3cd4-4b76-ebaf-be765835c78e"
      },
      "execution_count": null,
      "outputs": [
        {
          "output_type": "stream",
          "name": "stdout",
          "text": [
            "[25.666666666666668, 24.666666666666668, 25.333333333333332, 26.0]\n",
            "26(Steve) is the highest mean value\n",
            "Tom got highest mark in Python\n"
          ]
        }
      ]
    },
    {
      "cell_type": "code",
      "source": [
        "#  Q4: You are working in a medical store. A patient came to your medical store and asked to buy 2 strips of paracetamol,\n",
        "#  3 strips of azithromycin and 5 strips of Vitamin C. One strip of paracetamol costs Rs 35, one strip of azithromycin costs Rs 49 \n",
        "#  and one strip of vitamin c costs Rs. 33.\n",
        "#  Patient gave you Rs 2000. \n",
        "#  Please tell us what is the total cost of each medicine, total cost of all medicine and how much money you refunded to the patient?  \n",
        "\n",
        "def medicine_cost(Cash,Paracetamol=None,Azithromycin=None,Vitamin_C=None):\n",
        "  total=0\n",
        "  if Paracetamol!=None:\n",
        "    total_paracetamol=35*Paracetamol\n",
        "    total=total+total_paracetamol\n",
        "    print(\"Paracetamol cost: {} Rs.\".format(total_paracetamol))\n",
        "  if Azithromycin!=None:\n",
        "    total_azithromycin=49*Azithromycin\n",
        "    total=total+total_azithromycin\n",
        "    print(\"azithromycin cost: {} Rs.\".format(total_azithromycin))\n",
        "  if Vitamin_C!=None:\n",
        "    total_vitamin_c=33*Vitamin_C\n",
        "    total=total+total_vitamin_c\n",
        "    print(\"Vitamin_C cost: {} Rs.\".format(total_vitamin_c))\n",
        "\n",
        "  refund=Cash-total\n",
        "  \n",
        "  print(\"total cost: {} Rs.\".format(total))\n",
        "  print(\"refunded amount:{} Rs.\".format(refund))\n",
        "\n",
        "  \n",
        "medicine_cost(2000,2,3,None)\n"
      ],
      "metadata": {
        "colab": {
          "base_uri": "https://localhost:8080/"
        },
        "id": "hltK82rkvgwd",
        "outputId": "94f30fa6-dbb1-4b47-f11a-689531023659"
      },
      "execution_count": null,
      "outputs": [
        {
          "output_type": "stream",
          "name": "stdout",
          "text": [
            "Paracetamol cost: 70 Rs.\n",
            "azithromycin cost: 147 Rs.\n",
            "total cost: 217 Rs.\n",
            "refunded amount:1783 Rs.\n"
          ]
        }
      ]
    },
    {
      "cell_type": "code",
      "source": [
        "# Q5: Accept a sentence as input and find the number of vowels in it.\n",
        "# Assume that the sentence has no punctuation marks. \n",
        "# For example: I am learning python contains 6 vowels. This function should be applicable for all other different sentences.\n",
        "\n",
        "def vowel(s):\n",
        "  count=0\n",
        "  for i in s:\n",
        "    if i in \"aeiouAEIOU\":\n",
        "      count+=1\n",
        "  print(count)\n",
        "vowel(\" I am learning python \")\n",
        " "
      ],
      "metadata": {
        "colab": {
          "base_uri": "https://localhost:8080/"
        },
        "id": "ZaeI4rX0-vPJ",
        "outputId": "83110213-fd00-4516-87fe-b8bf3aa4cddd"
      },
      "execution_count": null,
      "outputs": [
        {
          "output_type": "stream",
          "name": "stdout",
          "text": [
            "6\n"
          ]
        }
      ]
    },
    {
      "cell_type": "code",
      "source": [
        "# Q6: You have been appointed by the election commission to create a website. \n",
        "# Your first task is to work on a program which tells candidates if they are eligible for voting or not. \n",
        "# If they are eligible your output should be ‘Congrats! You are eligible’, \n",
        "# otherwise it should tell that you have to return after X number of years. Eligibility criteria for voting is 18 years.\n",
        "\n",
        "# For example, If someone is 18 or above your output should be ‘Congrats! You are eligible’. \n",
        "# If someone’s age is 15 years it should print output as ‘return after 3 years’.  \n",
        "\n",
        "def eligibility(age):\n",
        "  if age>=18:\n",
        "    print(\"Congrats! You are eligible\")\n",
        "  else:\n",
        "    print('return after {} years'.format(18-age))\n",
        "eligibility(16)\n"
      ],
      "metadata": {
        "colab": {
          "base_uri": "https://localhost:8080/"
        },
        "id": "-H7UfH3TAZg_",
        "outputId": "adc54f89-da5f-4226-df58-25050eaa3a9e"
      },
      "execution_count": null,
      "outputs": [
        {
          "output_type": "stream",
          "name": "stdout",
          "text": [
            "return after 2 years\n"
          ]
        }
      ]
    }
  ]
}